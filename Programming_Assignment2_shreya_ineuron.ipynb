{
 "cells": [
  {
   "cell_type": "markdown",
   "id": "9189adec",
   "metadata": {},
   "source": [
    "**1.\tWrite a Python program to convert kilometers to miles?**"
   ]
  },
  {
   "cell_type": "code",
   "execution_count": 1,
   "id": "833b1d2f",
   "metadata": {},
   "outputs": [
    {
     "name": "stdout",
     "output_type": "stream",
     "text": [
      "value in km :53.76\n",
      "value after conversion from km to mi : 33.404904959999996\n"
     ]
    }
   ],
   "source": [
    "km = float(input('value in km :'))\n",
    "ratio = 0.621371\n",
    "mi = km*ratio\n",
    "print('value after conversion from km to mi :', mi)"
   ]
  },
  {
   "cell_type": "markdown",
   "id": "167828d6",
   "metadata": {},
   "source": [
    "**2.\tWrite a Python program to convert Celsius to Fahrenheit?**"
   ]
  },
  {
   "cell_type": "code",
   "execution_count": 2,
   "id": "ab862579",
   "metadata": {},
   "outputs": [
    {
     "name": "stdout",
     "output_type": "stream",
     "text": [
      "Temp in Celsius :48.7\n",
      "Temp after conversion from Celsius to Fahrenheit : 1646.06\n"
     ]
    }
   ],
   "source": [
    "Celsius = float(input('Temp in Celsius :'))\n",
    "ratio = 33.8\n",
    "Fahrenheit = Celsius*ratio\n",
    "print('Temp after conversion from Celsius to Fahrenheit :', Fahrenheit)"
   ]
  },
  {
   "cell_type": "markdown",
   "id": "d479ccd1",
   "metadata": {},
   "source": [
    "**3.\tWrite a Python program to display calendar?**"
   ]
  },
  {
   "cell_type": "code",
   "execution_count": 4,
   "id": "861a9255",
   "metadata": {},
   "outputs": [
    {
     "name": "stdout",
     "output_type": "stream",
     "text": [
      "Enter year :2022\n",
      "Enter month :1\n",
      "    January 2022\n",
      "Mo Tu We Th Fr Sa Su\n",
      "                1  2\n",
      " 3  4  5  6  7  8  9\n",
      "10 11 12 13 14 15 16\n",
      "17 18 19 20 21 22 23\n",
      "24 25 26 27 28 29 30\n",
      "31\n",
      "\n"
     ]
    }
   ],
   "source": [
    "import calendar\n",
    "\n",
    "y = int(input('Enter year :'))\n",
    "m = int(input('Enter month :'))\n",
    "print(calendar.month(y,m))"
   ]
  },
  {
   "cell_type": "markdown",
   "id": "021e2057",
   "metadata": {},
   "source": [
    "**4.\tWrite a Python program to solve quadratic equation?**"
   ]
  },
  {
   "cell_type": "code",
   "execution_count": 5,
   "id": "5b26d0e5",
   "metadata": {},
   "outputs": [
    {
     "name": "stdout",
     "output_type": "stream",
     "text": [
      "Enter Value of a :4\n",
      "Enter Value of b :6\n",
      "Enter Value of c :2\n",
      "The value of the roots are: (-16+0j) (-8+0j)\n"
     ]
    }
   ],
   "source": [
    "import cmath\n",
    "\n",
    "a = int(input('Enter Value of a :'))\n",
    "b = int(input('Enter Value of b :'))\n",
    "c = int(input('Enter Value of c :'))\n",
    "\n",
    "disc = (b**2) - (4*a*c)\n",
    "\n",
    "root1 = (-b-cmath.sqrt(disc))/2*a\n",
    "root2 = (-b+cmath.sqrt(disc))/2*a\n",
    "\n",
    "print('The value of the roots are:', root1, root2)"
   ]
  },
  {
   "cell_type": "markdown",
   "id": "07868440",
   "metadata": {},
   "source": [
    "**5.\tWrite a Python program to swap two variables without temp variable?**"
   ]
  },
  {
   "cell_type": "code",
   "execution_count": 6,
   "id": "cecb527e",
   "metadata": {},
   "outputs": [
    {
     "name": "stdout",
     "output_type": "stream",
     "text": [
      "Value of x after swapping : 79\n",
      "Value of y after swapping : 54\n"
     ]
    }
   ],
   "source": [
    "x = 54\n",
    "y = 79\n",
    "x , y = y , x\n",
    "print('Value of x after swapping :',x)\n",
    "print('Value of y after swapping :',y)"
   ]
  }
 ],
 "metadata": {
  "kernelspec": {
   "display_name": "Python 3 (ipykernel)",
   "language": "python",
   "name": "python3"
  },
  "language_info": {
   "codemirror_mode": {
    "name": "ipython",
    "version": 3
   },
   "file_extension": ".py",
   "mimetype": "text/x-python",
   "name": "python",
   "nbconvert_exporter": "python",
   "pygments_lexer": "ipython3",
   "version": "3.9.7"
  }
 },
 "nbformat": 4,
 "nbformat_minor": 5
}
